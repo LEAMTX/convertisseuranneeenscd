{
 "cells": [
  {
   "cell_type": "code",
   "execution_count": 7,
   "metadata": {},
   "outputs": [
    {
     "name": "stdout",
     "output_type": "stream",
     "text": [
      "True\n",
      "False\n"
     ]
    }
   ],
   "source": [
    "def est_bisextile (annee):\n",
    "    if (annee % 4 == 0 and annee % 100 != 0) or (annee % 400 == 0):\n",
    "        return True # année bissextile \n",
    "    else:\n",
    "        return False #annee non bisextile \n",
    "    #tester la fonction est_bissextile\n",
    "print(est_bisextile(2012)) ##--> true bisextile\n",
    "print(est_bisextile(2015)) ##--> fase non bisextile \n"
   ]
  },
  {
   "cell_type": "code",
   "execution_count": null,
   "metadata": {},
   "outputs": [
    {
     "name": "stdout",
     "output_type": "stream",
     "text": [
      "l'annee n'est pas bisextille\n",
      "31536000\n"
     ]
    }
   ],
   "source": [
    "def convertir_annee_secondes(annee):\n",
    " if (est_bisextile(annee)):\n",
    "    print (\"l'annee est bisextille\")\n",
    "    return 366 * 24 * 3600\n",
    " else :\n",
    "    print (\"⛔l'annee n'est pas bisextille\")\n",
    "    return 365 * 24 * 3600\n",
    "annee = 2019\n",
    "#Tester la fonction \n",
    "var = convertir_annee_secondes(annee)\n",
    "print(var)"
   ]
  },
  {
   "cell_type": "code",
   "execution_count": null,
   "metadata": {},
   "outputs": [
    {
     "name": "stdout",
     "output_type": "stream",
     "text": [
      "L'année 2002 n'est pas bissextile.\n",
      "l'annee 2002 n'est pas une annee bisextile et contient 31536000 secondes\n"
     ]
    }
   ],
   "source": [
    "#demander l'année à l'utilisateur et afficher le nombre de seconde et si c'est une née bisextile ou non\n",
    "annee = input(\"veuillez entrer une année s'il vous plait \")\n",
    "bisextile= est_bisextile(int(annee))\n",
    "secondes = convertir_annee_secondes(int(annee))  #int() convertit la chaine de charactères annee entree par l'utilisateur en entier afin de faire les calculs\n",
    "if bisextile :\n",
    "    print(f\"l'année {annee} est une annee bisextile et contient {secondes} secondes\")\n",
    "else : \n",
    "    print (f\"⛔l'annee {annee} n'est pas une annee bisextile et contient {secondes} secondes\")\n"
   ]
  },
  {
   "cell_type": "code",
   "execution_count": 8,
   "metadata": {},
   "outputs": [
    {
     "name": "stdout",
     "output_type": "stream",
     "text": [
      "L'année 1999 n'est pas bissextile.\n",
      "❌ L'année 1999 n'est pas bissextile et contient 31536000 secondes.👸🏻\n"
     ]
    }
   ],
   "source": [
    "\n",
    "#code complet avec boucle while :\n",
    "# Fonction pour déterminer si une année est bissextile\n",
    "def est_bisextile(annee):\n",
    "    return (annee % 4 == 0 and annee % 100 != 0) or (annee % 400 == 0)\n",
    "\n",
    "# Fonction pour convertir une année en secondes\n",
    "def convertir_annee_secondes(annee):\n",
    "    if est_bisextile(annee):\n",
    "        print(f\"L'année {annee} est bissextile.\")\n",
    "        return 366 * 24 * 3600\n",
    "    else:\n",
    "        print(f\"L'année {annee} n'est pas bissextile.\")\n",
    "        return 365 * 24 * 3600\n",
    "\n",
    "# Demande une année à l'utilisateur (boucle tant que ce n'est pas un entier > 0)\n",
    "annee = 0\n",
    "while annee <= 0:\n",
    "    try:\n",
    "        annee = int(input(\"Veuillez entrer une année (entier positif) : \"))\n",
    "        if annee <= 0:\n",
    "            print(\"⛔ Merci d'entrer un nombre supérieur à 0.\")\n",
    "    except ValueError:\n",
    "        print(\"⛔ Entrée invalide. Veuillez saisir un entier.\")\n",
    "\n",
    "# Utilisation des fonctions\n",
    "bisextile = est_bisextile(annee)\n",
    "secondes = convertir_annee_secondes(annee)\n",
    "\n",
    "# Affichage final\n",
    "if bisextile:\n",
    "    print(f\"✅ L'année {annee} est bissextile et contient {secondes} secondes.👸🏻\")\n",
    "else:\n",
    "    print(f\"❌ L'année {annee} n'est pas bissextile et contient {secondes} secondes.👸🏻\")\n",
    "\n"
   ]
  }
 ],
 "metadata": {
  "kernelspec": {
   "display_name": "Python 3",
   "language": "python",
   "name": "python3"
  },
  "language_info": {
   "codemirror_mode": {
    "name": "ipython",
    "version": 3
   },
   "file_extension": ".py",
   "mimetype": "text/x-python",
   "name": "python",
   "nbconvert_exporter": "python",
   "pygments_lexer": "ipython3",
   "version": "3.13.0"
  }
 },
 "nbformat": 4,
 "nbformat_minor": 2
}
